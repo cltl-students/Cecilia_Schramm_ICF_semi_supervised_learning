{
 "cells": [
  {
   "cell_type": "code",
   "execution_count": 1,
   "id": "fa72db8f",
   "metadata": {},
   "outputs": [],
   "source": [
    "import pandas as pd\n",
    "from ast import literal_eval\n",
    "import numpy as np"
   ]
  },
  {
   "cell_type": "code",
   "execution_count": 2,
   "id": "f85589e9",
   "metadata": {},
   "outputs": [],
   "source": [
    "df = pd.read_csv(\"/mnt/data/Users/A-PROOF/Cecilia_S/keyword_matches_notes/all_sents_small3.csv\")"
   ]
  },
  {
   "cell_type": "code",
   "execution_count": 3,
   "id": "19b1d956",
   "metadata": {},
   "outputs": [],
   "source": [
    "df['confidence'] = df.confidence.map(lambda x: literal_eval(x))\n",
    "df['pred_domains'] = df.pred_domains.map(lambda x: literal_eval(x))"
   ]
  },
  {
   "cell_type": "code",
   "execution_count": 4,
   "id": "f9f1f6c8",
   "metadata": {},
   "outputs": [
    {
     "data": {
      "text/html": [
       "<div>\n",
       "<style scoped>\n",
       "    .dataframe tbody tr th:only-of-type {\n",
       "        vertical-align: middle;\n",
       "    }\n",
       "\n",
       "    .dataframe tbody tr th {\n",
       "        vertical-align: top;\n",
       "    }\n",
       "\n",
       "    .dataframe thead th {\n",
       "        text-align: right;\n",
       "    }\n",
       "</style>\n",
       "<table border=\"1\" class=\"dataframe\">\n",
       "  <thead>\n",
       "    <tr style=\"text-align: right;\">\n",
       "      <th></th>\n",
       "      <th>Unnamed: 0</th>\n",
       "      <th>text</th>\n",
       "      <th>pred_domains</th>\n",
       "      <th>confidence</th>\n",
       "    </tr>\n",
       "  </thead>\n",
       "  <tbody>\n",
       "    <tr>\n",
       "      <th>0</th>\n",
       "      <td>0</td>\n",
       "      <td>CAD herplaatst 3)Verhoogde infectieparameters ...</td>\n",
       "      <td>[0, 0, 0, 0, 0, 0, 0, 0, 0]</td>\n",
       "      <td>[0.11112584363307856, 0.11109968732674443, 0.1...</td>\n",
       "    </tr>\n",
       "    <tr>\n",
       "      <th>1</th>\n",
       "      <td>1</td>\n",
       "      <td>Volgens partner toen wel wat lastiger te verst...</td>\n",
       "      <td>[0, 0, 0, 0, 0, 0, 0, 0, 0]</td>\n",
       "      <td>[0.11099488399024844, 0.11125417776010532, 0.1...</td>\n",
       "    </tr>\n",
       "    <tr>\n",
       "      <th>2</th>\n",
       "      <td>2</td>\n",
       "      <td>Trachplaatsing , ongecompliceerd Addendum 10-0...</td>\n",
       "      <td>[0, 0, 0, 0, 0, 0, 0, 0, 0]</td>\n",
       "      <td>[0.11121484760587265, 0.11108786953667825, 0.1...</td>\n",
       "    </tr>\n",
       "    <tr>\n",
       "      <th>3</th>\n",
       "      <td>3</td>\n",
       "      <td>In uw familie komt de erfelijke hartziekte bru...</td>\n",
       "      <td>[0, 0, 0, 0, 0, 0, 0, 0, 0]</td>\n",
       "      <td>[0.11112231922728447, 0.11110214515195024, 0.1...</td>\n",
       "    </tr>\n",
       "    <tr>\n",
       "      <th>4</th>\n",
       "      <td>4</td>\n",
       "      <td>T2N1 mondbodemcarcinoom essentiële hypertensie...</td>\n",
       "      <td>[0, 0, 0, 0, 0, 0, 0, 0, 0]</td>\n",
       "      <td>[0.11112595752961708, 0.11110058361628154, 0.1...</td>\n",
       "    </tr>\n",
       "    <tr>\n",
       "      <th>...</th>\n",
       "      <td>...</td>\n",
       "      <td>...</td>\n",
       "      <td>...</td>\n",
       "      <td>...</td>\n",
       "    </tr>\n",
       "    <tr>\n",
       "      <th>404995</th>\n",
       "      <td>404995</td>\n",
       "      <td>Maatschappelijk werk is icc , komt vanmiddag n...</td>\n",
       "      <td>[0, 0, 0, 0, 0, 0, 0, 0, 0]</td>\n",
       "      <td>[0.10793136055337005, 0.1079772966568992, 0.13...</td>\n",
       "    </tr>\n",
       "    <tr>\n",
       "      <th>404996</th>\n",
       "      <td>404996</td>\n",
       "      <td>Eerder beschreven afwijkingen op X-thorax zijn...</td>\n",
       "      <td>[0, 0, 0, 0, 0, 0, 0, 0, 0]</td>\n",
       "      <td>[0.11112841692176009, 0.11109890649526585, 0.1...</td>\n",
       "    </tr>\n",
       "    <tr>\n",
       "      <th>404997</th>\n",
       "      <td>404997</td>\n",
       "      <td>Betreft : A. v Ingen-Stuut , geb. 15-10-1922 ,...</td>\n",
       "      <td>[0, 0, 0, 0, 0, 0, 0, 0, 0]</td>\n",
       "      <td>[0.11112734193415448, 0.11109958630884038, 0.1...</td>\n",
       "    </tr>\n",
       "    <tr>\n",
       "      <th>404998</th>\n",
       "      <td>404998</td>\n",
       "      <td>Inhoudelijk gepreoccupeerd met de beperkte ste...</td>\n",
       "      <td>[0, 0, 0, 0, 0, 0, 0, 0, 0]</td>\n",
       "      <td>[0.110885243764016, 0.11093028572989504, 0.110...</td>\n",
       "    </tr>\n",
       "    <tr>\n",
       "      <th>404999</th>\n",
       "      <td>404999</td>\n",
       "      <td>Patiënt nam dit medicijn voorheen in om in sla...</td>\n",
       "      <td>[0, 0, 0, 0, 0, 0, 0, 0, 0]</td>\n",
       "      <td>[0.11109901406417347, 0.11110197366676834, 0.1...</td>\n",
       "    </tr>\n",
       "  </tbody>\n",
       "</table>\n",
       "<p>405000 rows × 4 columns</p>\n",
       "</div>"
      ],
      "text/plain": [
       "        Unnamed: 0                                               text  \\\n",
       "0                0  CAD herplaatst 3)Verhoogde infectieparameters ...   \n",
       "1                1  Volgens partner toen wel wat lastiger te verst...   \n",
       "2                2  Trachplaatsing , ongecompliceerd Addendum 10-0...   \n",
       "3                3  In uw familie komt de erfelijke hartziekte bru...   \n",
       "4                4  T2N1 mondbodemcarcinoom essentiële hypertensie...   \n",
       "...            ...                                                ...   \n",
       "404995      404995  Maatschappelijk werk is icc , komt vanmiddag n...   \n",
       "404996      404996  Eerder beschreven afwijkingen op X-thorax zijn...   \n",
       "404997      404997  Betreft : A. v Ingen-Stuut , geb. 15-10-1922 ,...   \n",
       "404998      404998  Inhoudelijk gepreoccupeerd met de beperkte ste...   \n",
       "404999      404999  Patiënt nam dit medicijn voorheen in om in sla...   \n",
       "\n",
       "                       pred_domains  \\\n",
       "0       [0, 0, 0, 0, 0, 0, 0, 0, 0]   \n",
       "1       [0, 0, 0, 0, 0, 0, 0, 0, 0]   \n",
       "2       [0, 0, 0, 0, 0, 0, 0, 0, 0]   \n",
       "3       [0, 0, 0, 0, 0, 0, 0, 0, 0]   \n",
       "4       [0, 0, 0, 0, 0, 0, 0, 0, 0]   \n",
       "...                             ...   \n",
       "404995  [0, 0, 0, 0, 0, 0, 0, 0, 0]   \n",
       "404996  [0, 0, 0, 0, 0, 0, 0, 0, 0]   \n",
       "404997  [0, 0, 0, 0, 0, 0, 0, 0, 0]   \n",
       "404998  [0, 0, 0, 0, 0, 0, 0, 0, 0]   \n",
       "404999  [0, 0, 0, 0, 0, 0, 0, 0, 0]   \n",
       "\n",
       "                                               confidence  \n",
       "0       [0.11112584363307856, 0.11109968732674443, 0.1...  \n",
       "1       [0.11099488399024844, 0.11125417776010532, 0.1...  \n",
       "2       [0.11121484760587265, 0.11108786953667825, 0.1...  \n",
       "3       [0.11112231922728447, 0.11110214515195024, 0.1...  \n",
       "4       [0.11112595752961708, 0.11110058361628154, 0.1...  \n",
       "...                                                   ...  \n",
       "404995  [0.10793136055337005, 0.1079772966568992, 0.13...  \n",
       "404996  [0.11112841692176009, 0.11109890649526585, 0.1...  \n",
       "404997  [0.11112734193415448, 0.11109958630884038, 0.1...  \n",
       "404998  [0.110885243764016, 0.11093028572989504, 0.110...  \n",
       "404999  [0.11109901406417347, 0.11110197366676834, 0.1...  \n",
       "\n",
       "[405000 rows x 4 columns]"
      ]
     },
     "execution_count": 4,
     "metadata": {},
     "output_type": "execute_result"
    }
   ],
   "source": [
    "df"
   ]
  },
  {
   "cell_type": "code",
   "execution_count": 5,
   "id": "d9bc5a6f",
   "metadata": {},
   "outputs": [],
   "source": [
    "confidence_lists = df.confidence.tolist()"
   ]
  },
  {
   "cell_type": "markdown",
   "id": "d4e85855",
   "metadata": {},
   "source": [
    "## Flat Confidence List"
   ]
  },
  {
   "cell_type": "code",
   "execution_count": 6,
   "id": "b79bc569",
   "metadata": {},
   "outputs": [],
   "source": [
    "confidence = [item for sublist in confidence_lists for item in sublist]"
   ]
  },
  {
   "cell_type": "code",
   "execution_count": 7,
   "id": "a9bc4f23",
   "metadata": {},
   "outputs": [
    {
     "data": {
      "text/plain": [
       "405000"
      ]
     },
     "execution_count": 7,
     "metadata": {},
     "output_type": "execute_result"
    }
   ],
   "source": [
    "len(confidence_lists)"
   ]
  },
  {
   "cell_type": "code",
   "execution_count": 8,
   "id": "b2c930b1",
   "metadata": {},
   "outputs": [
    {
     "data": {
      "text/plain": [
       "0.11111111111111603"
      ]
     },
     "execution_count": 8,
     "metadata": {},
     "output_type": "execute_result"
    }
   ],
   "source": [
    "sum(confidence)/len(confidence)"
   ]
  },
  {
   "cell_type": "code",
   "execution_count": 9,
   "id": "9b7772bd",
   "metadata": {},
   "outputs": [
    {
     "data": {
      "text/plain": [
       "0.24612881253345464"
      ]
     },
     "execution_count": 9,
     "metadata": {},
     "output_type": "execute_result"
    }
   ],
   "source": [
    "max(confidence)"
   ]
  },
  {
   "cell_type": "code",
   "execution_count": 10,
   "id": "940d2202",
   "metadata": {},
   "outputs": [
    {
     "data": {
      "text/plain": [
       "0.07705141363978685"
      ]
     },
     "execution_count": 10,
     "metadata": {},
     "output_type": "execute_result"
    }
   ],
   "source": [
    "min(confidence)"
   ]
  },
  {
   "cell_type": "code",
   "execution_count": 11,
   "id": "9fcdaf3d",
   "metadata": {},
   "outputs": [
    {
     "name": "stdout",
     "output_type": "stream",
     "text": [
      "0.07-0.08: 11\n",
      "0.08-0.09: 3439\n",
      "0.09-0.10: 159980\n",
      "0.10-0.11: 377383\n"
     ]
    }
   ],
   "source": [
    "score007 = 0\n",
    "score008 = 0\n",
    "score009 = 0\n",
    "score010 = 0\n",
    "\n",
    "for i in confidence:\n",
    "    if 0.08 > i >= 0.07:\n",
    "        score007 += 1\n",
    "    if 0.09 > i >= 0.08:\n",
    "        score008 += 1\n",
    "    if 0.1 > i >= 0.09:\n",
    "        score009 += 1\n",
    "    if 0.11 > i >= 0.1:\n",
    "        score010 += 1\n",
    "    \n",
    "        \n",
    "print(\"0.07-0.08:\", score007)\n",
    "print(\"0.08-0.09:\", score008)\n",
    "print(\"0.09-0.10:\", score009)\n",
    "print(\"0.10-0.11:\", score010)"
   ]
  },
  {
   "cell_type": "code",
   "execution_count": 12,
   "id": "87a5bff5",
   "metadata": {},
   "outputs": [
    {
     "name": "stdout",
     "output_type": "stream",
     "text": [
      "0.11-0.12: 3032285\n",
      "0.12-0.13: 13457\n",
      "0.13-0.14: 8738\n",
      "0.14-0.15: 6811\n",
      "0.15-0.16: 5630\n",
      "0.16-0.17: 5061\n",
      "0.17-0.18: 4801\n",
      ">0.18: 27404\n"
     ]
    }
   ],
   "source": [
    "score011 = 0\n",
    "score012 = 0\n",
    "score013 = 0\n",
    "score014 = 0\n",
    "score015 = 0\n",
    "score016 = 0\n",
    "score017 = 0\n",
    "above = 0\n",
    "\n",
    "for i in confidence:\n",
    "    if 0.12 > i >= 0.11:\n",
    "        score011 += 1\n",
    "    if 0.13 > i >= 0.12:\n",
    "        score012 += 1\n",
    "    if 0.14 > i >= 0.13:\n",
    "        score013 += 1\n",
    "    if 0.15 > i >= 0.14:\n",
    "        score014 += 1\n",
    "    if 0.16 > i >= 0.15:\n",
    "        score015 += 1\n",
    "    if 0.17 > i >= 0.16:\n",
    "        score016 += 1\n",
    "    if 0.18 > i >= 0.17:\n",
    "        score017 += 1\n",
    "    if 0.18 < i:\n",
    "        above += 1\n",
    "    \n",
    "        \n",
    "print(\"0.11-0.12:\", score011)\n",
    "print(\"0.12-0.13:\", score012)\n",
    "print(\"0.13-0.14:\", score013)\n",
    "print(\"0.14-0.15:\", score014)\n",
    "print(\"0.15-0.16:\", score015)\n",
    "print(\"0.16-0.17:\", score016)\n",
    "print(\"0.17-0.18:\", score017)\n",
    "print(\">0.18:\", above)"
   ]
  },
  {
   "cell_type": "code",
   "execution_count": 13,
   "id": "cf2c5c19",
   "metadata": {},
   "outputs": [
    {
     "name": "stdout",
     "output_type": "stream",
     "text": [
      "0.18-0.19: 4522\n",
      "0.19-0.20: 4150\n",
      "0.20-0.21: 4455\n",
      "0.21-0.22: 4534\n",
      "0.22-0.23: 5027\n",
      "0.23-0.24: 3846\n",
      "0.24-0.25: 870\n",
      "0.25-0.26: 0\n",
      ">0.26: 0\n"
     ]
    }
   ],
   "source": [
    "score018 = 0\n",
    "score019 = 0\n",
    "score020 = 0\n",
    "score021 = 0\n",
    "score022 = 0\n",
    "score023 = 0\n",
    "score024 = 0\n",
    "score025 = 0\n",
    "above = 0\n",
    "\n",
    "for i in confidence:\n",
    "    if 0.19 > i >= 0.18:\n",
    "        score018 += 1\n",
    "    if 0.2 > i >= 0.19:\n",
    "        score019 += 1\n",
    "    if 0.21 > i >= 0.2:\n",
    "        score020 += 1\n",
    "    if 0.22 > i >= 0.21:\n",
    "        score021 += 1\n",
    "    if 0.23 > i >= 0.22:\n",
    "        score022 += 1\n",
    "    if 0.24 > i >= 0.23:\n",
    "        score023 += 1\n",
    "    if 0.25 > i >= 0.24:\n",
    "        score024 += 1\n",
    "    if 0.26 > i >= 0.25:\n",
    "        score025 += 1\n",
    "    if 0.26 < i:\n",
    "        above += 1\n",
    "    \n",
    "print(\"0.18-0.19:\", score018)\n",
    "print(\"0.19-0.20:\", score019)\n",
    "print(\"0.20-0.21:\", score020)\n",
    "print(\"0.21-0.22:\", score021)\n",
    "print(\"0.22-0.23:\", score022)\n",
    "print(\"0.23-0.24:\", score023)\n",
    "print(\"0.24-0.25:\", score024)\n",
    "print(\"0.25-0.26:\", score025)\n",
    "print(\">0.26:\", above)"
   ]
  },
  {
   "cell_type": "raw",
   "id": "7d8eb6c0",
   "metadata": {},
   "source": [
    "0.07-0.08: 2\n",
    "0.08-0.09: 524\n",
    "0.09-0.10: 17219\n",
    "0.10-0.11: 45015\n",
    "0.11-0.12: 293285\n",
    "0.12-0.13: 1647\n",
    "0.13-0.14: 1046\n",
    "0.14-0.15: 873\n",
    "0.15-0.16: 696\n",
    "0.16-0.17: 621\n",
    "0.17-0.18: 566\n",
    "0.18-0.19: 503\n",
    "0.19-0.20: 510\n",
    "0.20-0.21: 482\n",
    "0.21-0.22: 532\n",
    "0.22-0.23: 485\n",
    "0.23-0.24: 406\n",
    "0.24-0.25: 88"
   ]
  },
  {
   "cell_type": "code",
   "execution_count": 14,
   "id": "b18bb2f5",
   "metadata": {},
   "outputs": [
    {
     "data": {
      "text/plain": [
       "364500"
      ]
     },
     "execution_count": 14,
     "metadata": {},
     "output_type": "execute_result"
    }
   ],
   "source": [
    "2+524+17219+45015+293285+1647+1046+873+696+621+566+503+510+482+532+485+406+88"
   ]
  },
  {
   "cell_type": "markdown",
   "id": "fc364135",
   "metadata": {},
   "source": [
    "## Confidence List of Lists"
   ]
  },
  {
   "cell_type": "raw",
   "id": "00e5f938",
   "metadata": {},
   "source": [
    "what is the max cs if the class. did assign a category\n",
    "what is the distribution if the clsf didn't assign a category"
   ]
  },
  {
   "cell_type": "code",
   "execution_count": 15,
   "id": "7fd8d287",
   "metadata": {},
   "outputs": [
    {
     "name": "stdout",
     "output_type": "stream",
     "text": [
      "0.07-0.08: 0\n",
      "0.08-0.09: 0\n",
      "0.09-0.10: 0\n",
      "0.10-0.11: 0\n",
      "0.11-0.12: 337831\n",
      "0.12-0.13: 11748\n",
      "0.13-0.14: 7808\n",
      "0.14-0.15: 5956\n",
      "0.15-0.16: 5044\n",
      "0.16-0.17: 4681\n",
      "0.17-0.18: 4619\n",
      "0.18-0.19: 4445\n",
      "0.19-0.20: 4136\n",
      "0.20-0.21: 4455\n",
      "0.21-0.22: 4534\n",
      "0.22-0.23: 5027\n",
      "0.23-0.24: 3846\n",
      "0.24-0.25: 870\n",
      "0.25-0.26: 0\n"
     ]
    }
   ],
   "source": [
    "score007 = 0\n",
    "score008 = 0\n",
    "score009 = 0\n",
    "score010 = 0\n",
    "score011 = 0\n",
    "score012 = 0\n",
    "score013 = 0\n",
    "score014 = 0\n",
    "score015 = 0\n",
    "score016 = 0\n",
    "score017 = 0\n",
    "score018 = 0\n",
    "score019 = 0\n",
    "score020 = 0\n",
    "score021 = 0\n",
    "score022 = 0\n",
    "score023 = 0\n",
    "score024 = 0\n",
    "score025 = 0\n",
    "\n",
    "for i in confidence_lists:\n",
    "    if 0.08 > max(i) >= 0.07:\n",
    "        score007 += 1\n",
    "    if 0.09 > max(i) >= 0.08:\n",
    "        score008 += 1\n",
    "    if 0.1 > max(i) >= 0.09:\n",
    "        score009 += 1\n",
    "    if 0.11 > max(i) >= 0.1:\n",
    "        score010 += 1\n",
    "    if 0.12 > max(i) >= 0.11:\n",
    "        score011 += 1\n",
    "    if 0.13 > max(i) >= 0.12:\n",
    "        score012 += 1\n",
    "    if 0.14 > max(i) >= 0.13:\n",
    "        score013 += 1\n",
    "    if 0.15 > max(i) >= 0.14:\n",
    "        score014 += 1\n",
    "    if 0.16 > max(i) >= 0.15:\n",
    "        score015 += 1\n",
    "    if 0.17 > max(i) >= 0.16:\n",
    "        score016 += 1\n",
    "    if 0.18 > max(i) >= 0.17:\n",
    "        score017 += 1\n",
    "    if 0.19 > max(i) >= 0.18:\n",
    "        score018 += 1\n",
    "    if 0.2 > max(i) >= 0.19:\n",
    "        score019 += 1\n",
    "    if 0.21 > max(i) >= 0.2:\n",
    "        score020 += 1\n",
    "    if 0.22 > max(i) >= 0.21:\n",
    "        score021 += 1\n",
    "    if 0.23 > max(i) >= 0.22:\n",
    "        score022 += 1\n",
    "    if 0.24 > max(i) >= 0.23:\n",
    "        score023 += 1\n",
    "    if 0.25 > max(i) >= 0.24:\n",
    "        score024 += 1\n",
    "    if 0.26 > max(i) >= 0.25:\n",
    "        score025 += 1\n",
    "        \n",
    "print(\"0.07-0.08:\", score007)\n",
    "print(\"0.08-0.09:\", score008)\n",
    "print(\"0.09-0.10:\", score009)\n",
    "print(\"0.10-0.11:\", score010)\n",
    "print(\"0.11-0.12:\", score011)\n",
    "print(\"0.12-0.13:\", score012)\n",
    "print(\"0.13-0.14:\", score013)\n",
    "print(\"0.14-0.15:\", score014)\n",
    "print(\"0.15-0.16:\", score015)\n",
    "print(\"0.16-0.17:\", score016)\n",
    "print(\"0.17-0.18:\", score017)\n",
    "print(\"0.18-0.19:\", score018)\n",
    "print(\"0.19-0.20:\", score019)\n",
    "print(\"0.20-0.21:\", score020)\n",
    "print(\"0.21-0.22:\", score021)\n",
    "print(\"0.22-0.23:\", score022)\n",
    "print(\"0.23-0.24:\", score023)\n",
    "print(\"0.24-0.25:\", score024)\n",
    "print(\"0.25-0.26:\", score025)"
   ]
  },
  {
   "cell_type": "code",
   "execution_count": 16,
   "id": "9b64f265",
   "metadata": {},
   "outputs": [
    {
     "name": "stdout",
     "output_type": "stream",
     "text": [
      "0.07-0.08: 0\n",
      "0.08-0.09: 0\n",
      "0.09-0.10: 0\n",
      "0.10-0.11: 0\n",
      "0.11-0.12: 0\n",
      "0.12-0.13: 0\n",
      "0.13-0.14: 0\n",
      "0.14-0.15: 0\n",
      "0.15-0.16: 28\n",
      "0.16-0.17: 434\n",
      "0.17-0.18: 4428\n",
      "0.18-0.19: 4445\n",
      "0.19-0.20: 4136\n",
      "0.20-0.21: 4455\n",
      "0.21-0.22: 4534\n",
      "0.22-0.23: 5027\n",
      "0.23-0.24: 3846\n",
      "0.24-0.25: 870\n",
      "0.25-0.26: 0\n"
     ]
    }
   ],
   "source": [
    "score007 = 0\n",
    "score008 = 0\n",
    "score009 = 0\n",
    "score010 = 0\n",
    "score011 = 0\n",
    "score012 = 0\n",
    "score013 = 0\n",
    "score014 = 0\n",
    "score015 = 0\n",
    "score016 = 0\n",
    "score017 = 0\n",
    "score018 = 0\n",
    "score019 = 0\n",
    "score020 = 0\n",
    "score021 = 0\n",
    "score022 = 0\n",
    "score023 = 0\n",
    "score024 = 0\n",
    "score025 = 0\n",
    "\n",
    "for ri, row in df.iterrows():\n",
    "    if 1 in row['pred_domains']:\n",
    "        if 0.08 > max(row['confidence']) >= 0.07:\n",
    "            score007 += 1\n",
    "        if 0.09 > max(row['confidence']) >= 0.08:\n",
    "            score008 += 1\n",
    "        if 0.1 > max(row['confidence']) >= 0.09:\n",
    "            score009 += 1\n",
    "        if 0.11 > max(row['confidence']) >= 0.1:\n",
    "            score010 += 1\n",
    "        if 0.12 > max(row['confidence']) >= 0.11:\n",
    "            score011 += 1\n",
    "        if 0.13 > max(row['confidence']) >= 0.12:\n",
    "            score012 += 1\n",
    "        if 0.14 > max(row['confidence']) >= 0.13:\n",
    "            score013 += 1\n",
    "        if 0.15 > max(row['confidence']) >= 0.14:\n",
    "            score014 += 1\n",
    "        if 0.16 > max(row['confidence']) >= 0.15:\n",
    "            score015 += 1\n",
    "        if 0.17 > max(row['confidence']) >= 0.16:\n",
    "            score016 += 1\n",
    "        if 0.18 > max(row['confidence']) >= 0.17:\n",
    "            score017 += 1\n",
    "        if 0.19 > max(row['confidence']) >= 0.18:\n",
    "            score018 += 1\n",
    "        if 0.2 > max(row['confidence']) >= 0.19:\n",
    "            score019 += 1\n",
    "        if 0.21 > max(row['confidence']) >= 0.2:\n",
    "            score020 += 1\n",
    "        if 0.22 > max(row['confidence']) >= 0.21:\n",
    "            score021 += 1\n",
    "        if 0.23 > max(row['confidence']) >= 0.22:\n",
    "            score022 += 1\n",
    "        if 0.24 > max(row['confidence']) >= 0.23:\n",
    "            score023 += 1\n",
    "        if 0.25 > max(row['confidence']) >= 0.24:\n",
    "            score024 += 1\n",
    "        if 0.26 > max(row['confidence']) >= 0.25:\n",
    "            score025 += 1\n",
    "            \n",
    "print(\"0.07-0.08:\", score007)\n",
    "print(\"0.08-0.09:\", score008)\n",
    "print(\"0.09-0.10:\", score009)\n",
    "print(\"0.10-0.11:\", score010)\n",
    "print(\"0.11-0.12:\", score011)\n",
    "print(\"0.12-0.13:\", score012)\n",
    "print(\"0.13-0.14:\", score013)\n",
    "print(\"0.14-0.15:\", score014)\n",
    "print(\"0.15-0.16:\", score015)\n",
    "print(\"0.16-0.17:\", score016)\n",
    "print(\"0.17-0.18:\", score017)\n",
    "print(\"0.18-0.19:\", score018)\n",
    "print(\"0.19-0.20:\", score019)\n",
    "print(\"0.20-0.21:\", score020)\n",
    "print(\"0.21-0.22:\", score021)\n",
    "print(\"0.22-0.23:\", score022)\n",
    "print(\"0.23-0.24:\", score023)\n",
    "print(\"0.24-0.25:\", score024)\n",
    "print(\"0.25-0.26:\", score025)"
   ]
  },
  {
   "cell_type": "code",
   "execution_count": 17,
   "id": "42387237",
   "metadata": {},
   "outputs": [
    {
     "name": "stdout",
     "output_type": "stream",
     "text": [
      "0.07-0.08: 0\n",
      "0.08-0.09: 0\n",
      "0.09-0.10: 0\n",
      "0.10-0.11: 0\n",
      "0.11-0.12: 337831\n",
      "0.12-0.13: 11748\n",
      "0.13-0.14: 7808\n",
      "0.14-0.15: 5956\n",
      "0.15-0.16: 5016\n",
      "0.16-0.17: 4247\n",
      "0.17-0.18: 191\n",
      "0.18-0.19: 0\n",
      "0.19-0.20: 0\n",
      "0.20-0.21: 0\n",
      "0.21-0.22: 0\n",
      "0.22-0.23: 0\n",
      "0.23-0.24: 0\n",
      "0.24-0.25: 0\n",
      "0.25-0.26: 0\n"
     ]
    }
   ],
   "source": [
    "score007 = 0\n",
    "score008 = 0\n",
    "score009 = 0\n",
    "score010 = 0\n",
    "score011 = 0\n",
    "score012 = 0\n",
    "score013 = 0\n",
    "score014 = 0\n",
    "score015 = 0\n",
    "score016 = 0\n",
    "score017 = 0\n",
    "score018 = 0\n",
    "score019 = 0\n",
    "score020 = 0\n",
    "score021 = 0\n",
    "score022 = 0\n",
    "score023 = 0\n",
    "score024 = 0\n",
    "score025 = 0\n",
    "\n",
    "for ri, row in df.iterrows():\n",
    "    if 1 not in row['pred_domains']:\n",
    "        if 0.08 > max(row['confidence']) >= 0.07:\n",
    "            score007 += 1\n",
    "        if 0.09 > max(row['confidence']) >= 0.08:\n",
    "            score008 += 1\n",
    "        if 0.1 > max(row['confidence']) >= 0.09:\n",
    "            score009 += 1\n",
    "        if 0.11 > max(row['confidence']) >= 0.1:\n",
    "            score010 += 1\n",
    "        if 0.12 > max(row['confidence']) >= 0.11:\n",
    "            score011 += 1\n",
    "        if 0.13 > max(row['confidence']) >= 0.12:\n",
    "            score012 += 1\n",
    "        if 0.14 > max(row['confidence']) >= 0.13:\n",
    "            score013 += 1\n",
    "        if 0.15 > max(row['confidence']) >= 0.14:\n",
    "            score014 += 1\n",
    "        if 0.16 > max(row['confidence']) >= 0.15:\n",
    "            score015 += 1\n",
    "        if 0.17 > max(row['confidence']) >= 0.16:\n",
    "            score016 += 1\n",
    "        if 0.18 > max(row['confidence']) >= 0.17:\n",
    "            score017 += 1\n",
    "        if 0.19 > max(row['confidence']) >= 0.18:\n",
    "            score018 += 1\n",
    "        if 0.2 > max(row['confidence']) >= 0.19:\n",
    "            score019 += 1\n",
    "        if 0.21 > max(row['confidence']) >= 0.2:\n",
    "            score020 += 1\n",
    "        if 0.22 > max(row['confidence']) >= 0.21:\n",
    "            score021 += 1\n",
    "        if 0.23 > max(row['confidence']) >= 0.22:\n",
    "            score022 += 1\n",
    "        if 0.24 > max(row['confidence']) >= 0.23:\n",
    "            score023 += 1\n",
    "        if 0.25 > max(row['confidence']) >= 0.24:\n",
    "            score024 += 1\n",
    "        if 0.26 > max(row['confidence']) >= 0.25:\n",
    "            score025 += 1\n",
    "            \n",
    "print(\"0.07-0.08:\", score007)\n",
    "print(\"0.08-0.09:\", score008)\n",
    "print(\"0.09-0.10:\", score009)\n",
    "print(\"0.10-0.11:\", score010)\n",
    "print(\"0.11-0.12:\", score011)\n",
    "print(\"0.12-0.13:\", score012)\n",
    "print(\"0.13-0.14:\", score013)\n",
    "print(\"0.14-0.15:\", score014)\n",
    "print(\"0.15-0.16:\", score015)\n",
    "print(\"0.16-0.17:\", score016)\n",
    "print(\"0.17-0.18:\", score017)\n",
    "print(\"0.18-0.19:\", score018)\n",
    "print(\"0.19-0.20:\", score019)\n",
    "print(\"0.20-0.21:\", score020)\n",
    "print(\"0.21-0.22:\", score021)\n",
    "print(\"0.22-0.23:\", score022)\n",
    "print(\"0.23-0.24:\", score023)\n",
    "print(\"0.24-0.25:\", score024)\n",
    "print(\"0.25-0.26:\", score025)"
   ]
  },
  {
   "cell_type": "code",
   "execution_count": null,
   "id": "8db63c21",
   "metadata": {},
   "outputs": [],
   "source": []
  }
 ],
 "metadata": {
  "kernelspec": {
   "display_name": "Python 3 (ipykernel)",
   "language": "python",
   "name": "python3"
  },
  "language_info": {
   "codemirror_mode": {
    "name": "ipython",
    "version": 3
   },
   "file_extension": ".py",
   "mimetype": "text/x-python",
   "name": "python",
   "nbconvert_exporter": "python",
   "pygments_lexer": "ipython3",
   "version": "3.10.12"
  }
 },
 "nbformat": 4,
 "nbformat_minor": 5
}
