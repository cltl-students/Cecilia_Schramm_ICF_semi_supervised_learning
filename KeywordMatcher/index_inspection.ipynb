{
 "cells": [
  {
   "cell_type": "code",
   "execution_count": 1,
   "id": "46485b9b",
   "metadata": {},
   "outputs": [],
   "source": [
    "import json"
   ]
  },
  {
   "cell_type": "markdown",
   "id": "1b20cef7",
   "metadata": {},
   "source": [
    "## 2017"
   ]
  },
  {
   "cell_type": "code",
   "execution_count": 3,
   "id": "c93871fc",
   "metadata": {},
   "outputs": [],
   "source": [
    "with open(\"/mnt/data/Users/A-PROOF/Cecilia_S/keyword_matches_notes/keyword_matches_2017/index_2017.json\") as infile:\n",
    "    data = json.load(infile)"
   ]
  },
  {
   "cell_type": "code",
   "execution_count": 5,
   "id": "bbbc5c6f",
   "metadata": {},
   "outputs": [
    {
     "name": "stdout",
     "output_type": "stream",
     "text": [
      "ETN 1425\n",
      "ADM 1313\n",
      "FAC 1967\n",
      "MBW 1132\n",
      "ATT 1315\n",
      "ENR 1039\n",
      "STM 730\n",
      "BER 514\n",
      "INS 926\n"
     ]
    }
   ],
   "source": [
    "for key, value in data.items():\n",
    "    if key == \"B1300\":\n",
    "        key = \"ENR\"\n",
    "    if key == \"B140\":\n",
    "        key = \"ATT\"\n",
    "    if key == \"B152\":\n",
    "        key = \"STM\"\n",
    "    if key == \"B440\":\n",
    "        key = \"ADM\"\n",
    "    if key == \"B455\":\n",
    "        key = \"INS\"\n",
    "    if key == \"B530\":\n",
    "        key = \"MBW\"\n",
    "    if key == \"D450\":\n",
    "        key = \"FAC\"\n",
    "    if key == \"D550\":\n",
    "        key = \"ETN\"\n",
    "    if key == \"D840-D859\":\n",
    "        key = \"BER\"\n",
    "    print(key, len(value))"
   ]
  },
  {
   "cell_type": "markdown",
   "id": "3731d673",
   "metadata": {},
   "source": [
    "## 2018"
   ]
  },
  {
   "cell_type": "code",
   "execution_count": 6,
   "id": "bc303a50",
   "metadata": {},
   "outputs": [],
   "source": [
    "with open(\"/mnt/data/Users/A-PROOF/Cecilia_S/keyword_matches_notes/keyword_matches_2018/index_2018.json\") as infile:\n",
    "    data = json.load(infile)"
   ]
  },
  {
   "cell_type": "code",
   "execution_count": 7,
   "id": "8fb98e79",
   "metadata": {},
   "outputs": [
    {
     "name": "stdout",
     "output_type": "stream",
     "text": [
      "INS 1033\n",
      "STM 827\n",
      "FAC 1975\n",
      "ATT 1295\n",
      "MBW 1103\n",
      "ADM 1225\n",
      "BER 524\n",
      "ENR 1010\n",
      "ETN 1420\n"
     ]
    }
   ],
   "source": [
    "for key, value in data.items():\n",
    "    if key == \"B1300\":\n",
    "        key = \"ENR\"\n",
    "    if key == \"B140\":\n",
    "        key = \"ATT\"\n",
    "    if key == \"B152\":\n",
    "        key = \"STM\"\n",
    "    if key == \"B440\":\n",
    "        key = \"ADM\"\n",
    "    if key == \"B455\":\n",
    "        key = \"INS\"\n",
    "    if key == \"B530\":\n",
    "        key = \"MBW\"\n",
    "    if key == \"D450\":\n",
    "        key = \"FAC\"\n",
    "    if key == \"D550\":\n",
    "        key = \"ETN\"\n",
    "    if key == \"D840-D859\":\n",
    "        key = \"BER\"\n",
    "    print(key, len(value))"
   ]
  },
  {
   "cell_type": "markdown",
   "id": "d389a0da",
   "metadata": {},
   "source": [
    "## 2020"
   ]
  },
  {
   "cell_type": "code",
   "execution_count": 8,
   "id": "bd5633e8",
   "metadata": {},
   "outputs": [],
   "source": [
    "with open(\"/mnt/data/Users/A-PROOF/Cecilia_S/keyword_matches_notes/keyword_matches_2020/index_2020.json\") as infile:\n",
    "    data = json.load(infile)"
   ]
  },
  {
   "cell_type": "code",
   "execution_count": 9,
   "id": "4409b940",
   "metadata": {},
   "outputs": [
    {
     "name": "stdout",
     "output_type": "stream",
     "text": [
      "FAC 2270\n",
      "STM 836\n",
      "BER 529\n",
      "ETN 1557\n",
      "ATT 1471\n",
      "ENR 1129\n",
      "MBW 1236\n",
      "ADM 1326\n",
      "INS 1027\n"
     ]
    }
   ],
   "source": [
    "for key, value in data.items():\n",
    "    if key == \"B1300\":\n",
    "        key = \"ENR\"\n",
    "    if key == \"B140\":\n",
    "        key = \"ATT\"\n",
    "    if key == \"B152\":\n",
    "        key = \"STM\"\n",
    "    if key == \"B440\":\n",
    "        key = \"ADM\"\n",
    "    if key == \"B455\":\n",
    "        key = \"INS\"\n",
    "    if key == \"B530\":\n",
    "        key = \"MBW\"\n",
    "    if key == \"D450\":\n",
    "        key = \"FAC\"\n",
    "    if key == \"D550\":\n",
    "        key = \"ETN\"\n",
    "    if key == \"D840-D859\":\n",
    "        key = \"BER\"\n",
    "    print(key, len(value))"
   ]
  },
  {
   "cell_type": "markdown",
   "id": "717d178a",
   "metadata": {},
   "source": [
    "## 20-21"
   ]
  },
  {
   "cell_type": "code",
   "execution_count": 12,
   "id": "c670d67a",
   "metadata": {},
   "outputs": [],
   "source": [
    "with open(\"/mnt/data/Users/A-PROOF/Cecilia_S/keyword_matches_notes/keyword_matches_20-21/index_20-21.json\") as infile:\n",
    "    data = json.load(infile)"
   ]
  },
  {
   "cell_type": "code",
   "execution_count": 13,
   "id": "e5c74ed4",
   "metadata": {},
   "outputs": [
    {
     "name": "stdout",
     "output_type": "stream",
     "text": [
      "ADM 1467\n",
      "ATT 1555\n",
      "ETN 1591\n",
      "FAC 2349\n",
      "STM 870\n",
      "ENR 1180\n",
      "INS 1158\n",
      "MBW 1391\n",
      "BER 578\n"
     ]
    }
   ],
   "source": [
    "for key, value in data.items():\n",
    "    if key == \"B1300\":\n",
    "        key = \"ENR\"\n",
    "    if key == \"B140\":\n",
    "        key = \"ATT\"\n",
    "    if key == \"B152\":\n",
    "        key = \"STM\"\n",
    "    if key == \"B440\":\n",
    "        key = \"ADM\"\n",
    "    if key == \"B455\":\n",
    "        key = \"INS\"\n",
    "    if key == \"B530\":\n",
    "        key = \"MBW\"\n",
    "    if key == \"D450\":\n",
    "        key = \"FAC\"\n",
    "    if key == \"D550\":\n",
    "        key = \"ETN\"\n",
    "    if key == \"D840-D859\":\n",
    "        key = \"BER\"\n",
    "    print(key, len(value))"
   ]
  },
  {
   "cell_type": "code",
   "execution_count": null,
   "id": "dc3ad06a",
   "metadata": {},
   "outputs": [],
   "source": []
  }
 ],
 "metadata": {
  "kernelspec": {
   "display_name": "Python 3 (ipykernel)",
   "language": "python",
   "name": "python3"
  },
  "language_info": {
   "codemirror_mode": {
    "name": "ipython",
    "version": 3
   },
   "file_extension": ".py",
   "mimetype": "text/x-python",
   "name": "python",
   "nbconvert_exporter": "python",
   "pygments_lexer": "ipython3",
   "version": "3.10.6"
  }
 },
 "nbformat": 4,
 "nbformat_minor": 5
}
