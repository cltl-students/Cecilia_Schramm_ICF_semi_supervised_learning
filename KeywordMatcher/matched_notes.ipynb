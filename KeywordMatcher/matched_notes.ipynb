{
 "cells": [
  {
   "cell_type": "code",
   "execution_count": 1,
   "id": "e473855d",
   "metadata": {},
   "outputs": [],
   "source": [
    "import pandas as pd\n",
    "import pickle\n",
    "import numpy as np\n",
    "import spacy\n",
    "import os\n",
    "import json\n",
    "from tqdm import tqdm"
   ]
  },
  {
   "cell_type": "raw",
   "id": "6ebf4ff6",
   "metadata": {},
   "source": [
    "REMOVE THE DUPLICATES FROM THE JSON INDEX DICT ENITRELY AND WRITE THE DICT TO A NEW FILE"
   ]
  },
  {
   "cell_type": "code",
   "execution_count": 4,
   "id": "81f1753e",
   "metadata": {},
   "outputs": [
    {
     "name": "stdout",
     "output_type": "stream",
     "text": [
      "2017 10361\n",
      "2018 10412\n",
      "2020 11381\n",
      "20-21 12139\n"
     ]
    }
   ],
   "source": [
    "path1 = \"/mnt/data/Users/A-PROOF/Cecilia_S/keyword_matches_notes/keyword_matches_\"\n",
    "path2 = \"/index_\"\n",
    "years = [\"2017\", \"2018\", \"2020\", \"20-21\"]\n",
    "\n",
    "for year in years:\n",
    "    total = 0\n",
    "    with open(path1 + year + path2 + year + \".json\") as file:\n",
    "        indexes = json.load(file)\n",
    "        for category, notes in indexes.items():\n",
    "            total += len(notes)\n",
    "    print(year, total)"
   ]
  },
  {
   "cell_type": "code",
   "execution_count": 5,
   "id": "f7a7e36d",
   "metadata": {},
   "outputs": [
    {
     "name": "stdout",
     "output_type": "stream",
     "text": [
      "44293\n",
      "11577\n",
      "10066\n"
     ]
    }
   ],
   "source": [
    "path1 = \"/mnt/data/Users/A-PROOF/Cecilia_S/keyword_matches_notes/keyword_matches_\"\n",
    "path2 = \"/index_\"\n",
    "years = [\"2017\", \"2018\", \"2020\", \"20-21\"]\n",
    "all_files = []\n",
    "\n",
    "for year in years:\n",
    "    total = 0\n",
    "    with open(path1 + year + path2 + year + \".json\") as file:\n",
    "        indexes = json.load(file)\n",
    "        for category, notes in indexes.items():\n",
    "            all_files.append(notes)\n",
    "\n",
    "all_files_list = [item for sublist in all_files for item in sublist]\n",
    "print(len(all_files_list))\n",
    "mult_cats = []\n",
    "single_cat = []\n",
    "\n",
    "for file in all_files_list:\n",
    "    if all_files_list.count(file) > 1 and file not in mult_cats:\n",
    "        mult_cats.append(file)\n",
    "    if all_files_list.count(file) == 1:\n",
    "        single_cat.append(file)\n",
    "print(len(mult_cats))\n",
    "print(len(single_cat))"
   ]
  },
  {
   "cell_type": "code",
   "execution_count": 5,
   "id": "b170559a",
   "metadata": {},
   "outputs": [
    {
     "name": "stdout",
     "output_type": "stream",
     "text": [
      "21643\n"
     ]
    }
   ],
   "source": [
    "all_files_set = set(all_files_list)\n",
    "\n",
    "print(len(all_files_set))"
   ]
  },
  {
   "cell_type": "code",
   "execution_count": 2,
   "id": "199653ae",
   "metadata": {},
   "outputs": [
    {
     "name": "stdout",
     "output_type": "stream",
     "text": [
      "[1, 2, 3, 4, 5, 6, 7, 8, 9]\n"
     ]
    }
   ],
   "source": [
    "test = [[1,2,3],[4,5,6],[7,8,9]]\n",
    "\n",
    "new_list = [item for sublist in test for item in sublist]\n",
    "\n",
    "print(new_list)"
   ]
  },
  {
   "cell_type": "code",
   "execution_count": 14,
   "id": "c24faaad",
   "metadata": {
    "scrolled": false
   },
   "outputs": [
    {
     "name": "stdout",
     "output_type": "stream",
     "text": [
      "2017 9960\n"
     ]
    },
    {
     "name": "stderr",
     "output_type": "stream",
     "text": [
      "100%|██████████████████████████████████████| 9960/9960 [00:13<00:00, 726.89it/s]\n"
     ]
    },
    {
     "name": "stdout",
     "output_type": "stream",
     "text": [
      "2018 9949\n"
     ]
    },
    {
     "name": "stderr",
     "output_type": "stream",
     "text": [
      "100%|██████████████████████████████████████| 9949/9949 [00:12<00:00, 786.67it/s]\n"
     ]
    },
    {
     "name": "stdout",
     "output_type": "stream",
     "text": [
      "2020 9935\n"
     ]
    },
    {
     "name": "stderr",
     "output_type": "stream",
     "text": [
      "100%|██████████████████████████████████████| 9935/9935 [00:13<00:00, 715.74it/s]\n"
     ]
    },
    {
     "name": "stdout",
     "output_type": "stream",
     "text": [
      "20-21 9923\n"
     ]
    },
    {
     "name": "stderr",
     "output_type": "stream",
     "text": [
      "100%|██████████████████████████████████████| 9923/9923 [00:15<00:00, 626.17it/s]\n"
     ]
    }
   ],
   "source": [
    "path1 = \"/mnt/data/Users/A-PROOF/Cecilia_S/keyword_matches_notes/keyword_matches_\"\n",
    "path2 = \"/index_\"\n",
    "years = [\"2017\", \"2018\", \"2020\", \"20-21\"]\n",
    "\n",
    "for year in years:\n",
    "    dirname = path1 + year\n",
    "    ext = ('.conll')\n",
    "    print(year, len(os.listdir(dirname)))\n",
    "    for file in tqdm(os.listdir(dirname)):\n",
    "        if file.endswith(ext):\n",
    "            with open(path1 + year + path2 + year + \".json\") as file:\n",
    "                indexes = json.load(file)\n",
    "                for notes in indexes.values():\n",
    "                    if notes.count(file) > 1:\n",
    "                        print(file, notes.count(file))"
   ]
  },
  {
   "cell_type": "code",
   "execution_count": 19,
   "id": "bf8663e0",
   "metadata": {},
   "outputs": [
    {
     "name": "stdout",
     "output_type": "stream",
     "text": [
      "processed_2017.pkl---10002.conll\n",
      "2017 9958\n",
      "processed_2018.pkl---10002.conll\n",
      "2018 9947\n",
      "processed_2020.pkl---10002.conll\n",
      "2020 9933\n",
      "processed_20-21.pkl---10002.conll\n",
      "20-21 9921\n"
     ]
    }
   ],
   "source": [
    "path1 = \"/mnt/data/Users/A-PROOF/Cecilia_S/keyword_matches_notes/keyword_matches_\"\n",
    "path2 = \"/index_\"\n",
    "years = [\"2017\", \"2018\", \"2020\", \"20-21\"]\n",
    "\n",
    "for year in years:\n",
    "    dirname = path1 + year\n",
    "    ext = ('.conll')\n",
    "    total = 0\n",
    "    print(os.listdir(dirname)[2])\n",
    "    for file in os.listdir(dirname):\n",
    "        if file.endswith(ext):\n",
    "            total += 1\n",
    "    print(year, total)"
   ]
  },
  {
   "cell_type": "code",
   "execution_count": 35,
   "id": "949a274f",
   "metadata": {},
   "outputs": [
    {
     "name": "stdout",
     "output_type": "stream",
     "text": [
      "2017 40\n",
      "2018 52\n",
      "2020 65\n",
      "2021 77\n"
     ]
    }
   ],
   "source": [
    "path1 = \"/mnt/data/Users/A-PROOF/Cecilia_S/keyword_matches_notes/keyword_matches_\"\n",
    "path2 = \"/index_\"\n",
    "years = [\"2017\", \"2018\", \"2020\", \"20-21\"]\n",
    "num = 10002\n",
    "\n",
    "for year in years[:3]:\n",
    "    total = 0\n",
    "    dirname = path1 + year\n",
    "    ext = ('.conll')\n",
    "    for file in os.listdir(dirname)[3:]:\n",
    "        if file.endswith(ext):\n",
    "            if int(file[21:26]) != num +1:\n",
    "                total += 1\n",
    "                num = int(file[21:26])\n",
    "            else:\n",
    "                num = int(file[21:26])\n",
    "    print(year, total)\n",
    "    \n",
    "ext = ('.conll')\n",
    "total = 0\n",
    "for file in os.listdir(\"/mnt/data/Users/A-PROOF/Cecilia_S/keyword_matches_notes/keyword_matches_20-21\"):\n",
    "    if file.endswith(ext):\n",
    "        if int(file[22:27]) != num +1:\n",
    "            total += 1\n",
    "            num = int(file[22:27])\n",
    "        else:\n",
    "            num = int(file[22:27])\n",
    "print(\"2021\", total)"
   ]
  },
  {
   "cell_type": "code",
   "execution_count": 26,
   "id": "8ffd1a39",
   "metadata": {},
   "outputs": [
    {
     "name": "stdout",
     "output_type": "stream",
     "text": [
      "0 p\n",
      "1 r\n",
      "2 o\n",
      "3 c\n",
      "4 e\n",
      "5 s\n",
      "6 s\n",
      "7 e\n",
      "8 d\n",
      "9 _\n",
      "10 2\n",
      "11 0\n",
      "12 1\n",
      "13 8\n",
      "14 .\n",
      "15 p\n",
      "16 k\n",
      "17 l\n",
      "18 -\n",
      "19 -\n",
      "20 -\n",
      "21 1\n",
      "22 0\n",
      "23 0\n",
      "24 0\n",
      "25 2\n",
      "26 .\n",
      "27 c\n",
      "28 o\n",
      "29 n\n",
      "30 l\n",
      "31 l\n"
     ]
    }
   ],
   "source": [
    "s = \"processed_2018.pkl---10002.conll\"\n",
    "for i in range(len(s)):\n",
    "    print(i, s[i])"
   ]
  },
  {
   "cell_type": "code",
   "execution_count": 27,
   "id": "c6f19bd0",
   "metadata": {},
   "outputs": [
    {
     "name": "stdout",
     "output_type": "stream",
     "text": [
      "10002\n"
     ]
    }
   ],
   "source": [
    "s = \"processed_2018.pkl---10002.conll\"\n",
    "num = s[21:26]\n",
    "print(num)"
   ]
  },
  {
   "cell_type": "code",
   "execution_count": null,
   "id": "6f65c31d",
   "metadata": {},
   "outputs": [],
   "source": []
  }
 ],
 "metadata": {
  "kernelspec": {
   "display_name": "Python 3 (ipykernel)",
   "language": "python",
   "name": "python3"
  },
  "language_info": {
   "codemirror_mode": {
    "name": "ipython",
    "version": 3
   },
   "file_extension": ".py",
   "mimetype": "text/x-python",
   "name": "python",
   "nbconvert_exporter": "python",
   "pygments_lexer": "ipython3",
   "version": "3.10.6"
  }
 },
 "nbformat": 4,
 "nbformat_minor": 5
}
