{
 "cells": [
  {
   "cell_type": "code",
   "execution_count": 1,
   "id": "f3a92ffa",
   "metadata": {},
   "outputs": [],
   "source": [
    "import pandas as pd\n",
    "import numpy as np\n",
    "import random"
   ]
  },
  {
   "cell_type": "code",
   "execution_count": 2,
   "id": "5ebd9d26",
   "metadata": {},
   "outputs": [],
   "source": [
    "df = pd.read_csv(\"/mnt/data/Users/A-PROOF/Cecilia_S/keyword_matches_notes/all_sents_nodup.csv\")"
   ]
  },
  {
   "cell_type": "code",
   "execution_count": 3,
   "id": "22a01698",
   "metadata": {},
   "outputs": [
    {
     "name": "stdout",
     "output_type": "stream",
     "text": [
      "[  11851   16013   76228   90704   93540  147565  148841  148844  176359\n",
      "  182609  182846  193056  193060  244570  244574  249836  252097  252100\n",
      "  265305  302674  302677  316347  339828  363850  366122  375425  375429\n",
      "  487961  505695  521867  582862  582866  620610  711216  732344  743703\n",
      "  765382  774258  830662  862009  883909  940828  986915 1001457 1026141\n",
      " 1034069 1075072 1159227 1216168 1265726 1411065 1439081 1447533 1460607\n",
      " 1671790 1688452 1696743 1709597 1795880 1878800 1969030 2044990 2068269\n",
      " 2102629 2146707 2192502 2200646 2256995 2286686 2332405 2333577 2362802\n",
      " 2374674 2377089 2423531 2430426 2444433 2492244 2514398 2518078 2631618\n",
      " 2632655 2667779 2670028]\n"
     ]
    }
   ],
   "source": [
    "indeces = np.where(pd.isnull(df))[0]\n",
    "print(indeces)"
   ]
  },
  {
   "cell_type": "code",
   "execution_count": 4,
   "id": "cf1a866c",
   "metadata": {},
   "outputs": [],
   "source": [
    "for index in indeces:\n",
    "    df.at[index, 'text'] = 'NA'"
   ]
  },
  {
   "cell_type": "code",
   "execution_count": 5,
   "id": "ab20fc81",
   "metadata": {},
   "outputs": [
    {
     "data": {
      "text/plain": [
       "(array([], dtype=int64), array([], dtype=int64))"
      ]
     },
     "execution_count": 5,
     "metadata": {},
     "output_type": "execute_result"
    }
   ],
   "source": [
    "np.where(pd.isnull(df))"
   ]
  },
  {
   "cell_type": "code",
   "execution_count": 6,
   "id": "17b8fcbe",
   "metadata": {},
   "outputs": [
    {
     "data": {
      "text/html": [
       "<div>\n",
       "<style scoped>\n",
       "    .dataframe tbody tr th:only-of-type {\n",
       "        vertical-align: middle;\n",
       "    }\n",
       "\n",
       "    .dataframe tbody tr th {\n",
       "        vertical-align: top;\n",
       "    }\n",
       "\n",
       "    .dataframe thead th {\n",
       "        text-align: right;\n",
       "    }\n",
       "</style>\n",
       "<table border=\"1\" class=\"dataframe\">\n",
       "  <thead>\n",
       "    <tr style=\"text-align: right;\">\n",
       "      <th></th>\n",
       "      <th>text</th>\n",
       "    </tr>\n",
       "    <tr>\n",
       "      <th>category</th>\n",
       "      <th></th>\n",
       "    </tr>\n",
       "  </thead>\n",
       "  <tbody>\n",
       "    <tr>\n",
       "      <th>ADM</th>\n",
       "      <td>343825</td>\n",
       "    </tr>\n",
       "    <tr>\n",
       "      <th>ATT</th>\n",
       "      <td>352302</td>\n",
       "    </tr>\n",
       "    <tr>\n",
       "      <th>BER</th>\n",
       "      <td>152970</td>\n",
       "    </tr>\n",
       "    <tr>\n",
       "      <th>ENR</th>\n",
       "      <td>258436</td>\n",
       "    </tr>\n",
       "    <tr>\n",
       "      <th>ETN</th>\n",
       "      <td>343081</td>\n",
       "    </tr>\n",
       "    <tr>\n",
       "      <th>FAC</th>\n",
       "      <td>458830</td>\n",
       "    </tr>\n",
       "    <tr>\n",
       "      <th>INS</th>\n",
       "      <td>241756</td>\n",
       "    </tr>\n",
       "    <tr>\n",
       "      <th>MBW</th>\n",
       "      <td>349546</td>\n",
       "    </tr>\n",
       "    <tr>\n",
       "      <th>STM</th>\n",
       "      <td>180231</td>\n",
       "    </tr>\n",
       "  </tbody>\n",
       "</table>\n",
       "</div>"
      ],
      "text/plain": [
       "            text\n",
       "category        \n",
       "ADM       343825\n",
       "ATT       352302\n",
       "BER       152970\n",
       "ENR       258436\n",
       "ETN       343081\n",
       "FAC       458830\n",
       "INS       241756\n",
       "MBW       349546\n",
       "STM       180231"
      ]
     },
     "execution_count": 6,
     "metadata": {},
     "output_type": "execute_result"
    }
   ],
   "source": [
    "df.groupby('category').count()"
   ]
  },
  {
   "cell_type": "code",
   "execution_count": 7,
   "id": "36d04ceb",
   "metadata": {},
   "outputs": [
    {
     "data": {
      "text/plain": [
       "2680977"
      ]
     },
     "execution_count": 7,
     "metadata": {},
     "output_type": "execute_result"
    }
   ],
   "source": [
    "343825+352302+152970+258436+343081+458830+241756+349546+180231"
   ]
  },
  {
   "cell_type": "code",
   "execution_count": 8,
   "id": "4928e1bd",
   "metadata": {},
   "outputs": [
    {
     "data": {
      "text/plain": [
       "2680977"
      ]
     },
     "execution_count": 8,
     "metadata": {},
     "output_type": "execute_result"
    }
   ],
   "source": [
    "len(df)"
   ]
  },
  {
   "cell_type": "code",
   "execution_count": 9,
   "id": "e94524ca",
   "metadata": {},
   "outputs": [
    {
     "data": {
      "text/plain": [
       "[]"
      ]
     },
     "execution_count": 9,
     "metadata": {},
     "output_type": "execute_result"
    }
   ],
   "source": [
    "[df.iloc[i,j] for i,j in zip(*np.where(pd.isnull(df)))]"
   ]
  },
  {
   "cell_type": "code",
   "execution_count": 10,
   "id": "77354b4e",
   "metadata": {},
   "outputs": [],
   "source": [
    "df.drop_duplicates(inplace=True)"
   ]
  },
  {
   "cell_type": "code",
   "execution_count": 11,
   "id": "945268fc",
   "metadata": {
    "scrolled": true
   },
   "outputs": [
    {
     "data": {
      "text/html": [
       "<div>\n",
       "<style scoped>\n",
       "    .dataframe tbody tr th:only-of-type {\n",
       "        vertical-align: middle;\n",
       "    }\n",
       "\n",
       "    .dataframe tbody tr th {\n",
       "        vertical-align: top;\n",
       "    }\n",
       "\n",
       "    .dataframe thead th {\n",
       "        text-align: right;\n",
       "    }\n",
       "</style>\n",
       "<table border=\"1\" class=\"dataframe\">\n",
       "  <thead>\n",
       "    <tr style=\"text-align: right;\">\n",
       "      <th></th>\n",
       "      <th>text</th>\n",
       "    </tr>\n",
       "    <tr>\n",
       "      <th>category</th>\n",
       "      <th></th>\n",
       "    </tr>\n",
       "  </thead>\n",
       "  <tbody>\n",
       "    <tr>\n",
       "      <th>ADM</th>\n",
       "      <td>238237</td>\n",
       "    </tr>\n",
       "    <tr>\n",
       "      <th>ATT</th>\n",
       "      <td>248301</td>\n",
       "    </tr>\n",
       "    <tr>\n",
       "      <th>BER</th>\n",
       "      <td>116742</td>\n",
       "    </tr>\n",
       "    <tr>\n",
       "      <th>ENR</th>\n",
       "      <td>187792</td>\n",
       "    </tr>\n",
       "    <tr>\n",
       "      <th>ETN</th>\n",
       "      <td>238289</td>\n",
       "    </tr>\n",
       "    <tr>\n",
       "      <th>FAC</th>\n",
       "      <td>306142</td>\n",
       "    </tr>\n",
       "    <tr>\n",
       "      <th>INS</th>\n",
       "      <td>171121</td>\n",
       "    </tr>\n",
       "    <tr>\n",
       "      <th>MBW</th>\n",
       "      <td>247823</td>\n",
       "    </tr>\n",
       "    <tr>\n",
       "      <th>STM</th>\n",
       "      <td>140113</td>\n",
       "    </tr>\n",
       "  </tbody>\n",
       "</table>\n",
       "</div>"
      ],
      "text/plain": [
       "            text\n",
       "category        \n",
       "ADM       238237\n",
       "ATT       248301\n",
       "BER       116742\n",
       "ENR       187792\n",
       "ETN       238289\n",
       "FAC       306142\n",
       "INS       171121\n",
       "MBW       247823\n",
       "STM       140113"
      ]
     },
     "execution_count": 11,
     "metadata": {},
     "output_type": "execute_result"
    }
   ],
   "source": [
    "df.groupby('category').count()"
   ]
  },
  {
   "cell_type": "code",
   "execution_count": 12,
   "id": "b0711cb1",
   "metadata": {},
   "outputs": [
    {
     "data": {
      "text/plain": [
       "1894560"
      ]
     },
     "execution_count": 12,
     "metadata": {},
     "output_type": "execute_result"
    }
   ],
   "source": [
    "238237+248301+116742+187792+238289+306142+171121+247823+140113"
   ]
  },
  {
   "cell_type": "code",
   "execution_count": 13,
   "id": "cac0d1fc",
   "metadata": {},
   "outputs": [
    {
     "data": {
      "text/plain": [
       "1894560"
      ]
     },
     "execution_count": 13,
     "metadata": {},
     "output_type": "execute_result"
    }
   ],
   "source": [
    "len(df)"
   ]
  },
  {
   "cell_type": "code",
   "execution_count": 14,
   "id": "1bc42976",
   "metadata": {},
   "outputs": [],
   "source": [
    "df = df.sample(frac=1)"
   ]
  },
  {
   "cell_type": "code",
   "execution_count": 15,
   "id": "966375af",
   "metadata": {},
   "outputs": [
    {
     "data": {
      "text/html": [
       "<div>\n",
       "<style scoped>\n",
       "    .dataframe tbody tr th:only-of-type {\n",
       "        vertical-align: middle;\n",
       "    }\n",
       "\n",
       "    .dataframe tbody tr th {\n",
       "        vertical-align: top;\n",
       "    }\n",
       "\n",
       "    .dataframe thead th {\n",
       "        text-align: right;\n",
       "    }\n",
       "</style>\n",
       "<table border=\"1\" class=\"dataframe\">\n",
       "  <thead>\n",
       "    <tr style=\"text-align: right;\">\n",
       "      <th></th>\n",
       "      <th>category</th>\n",
       "      <th>text</th>\n",
       "    </tr>\n",
       "  </thead>\n",
       "  <tbody>\n",
       "    <tr>\n",
       "      <th>954882</th>\n",
       "      <td>MBW</td>\n",
       "      <td>vasculaire Tav longen , multiproblematiek</td>\n",
       "    </tr>\n",
       "    <tr>\n",
       "      <th>498176</th>\n",
       "      <td>STM</td>\n",
       "      <td>Redelijke linker ventrikelfunctie in rust ( EF...</td>\n",
       "    </tr>\n",
       "    <tr>\n",
       "      <th>859393</th>\n",
       "      <td>ATT</td>\n",
       "      <td>Als er geen vormen geknipt moeten worden dan v...</td>\n",
       "    </tr>\n",
       "    <tr>\n",
       "      <th>892728</th>\n",
       "      <td>ATT</td>\n",
       "      <td>Dit bleef een tijdje .</td>\n",
       "    </tr>\n",
       "    <tr>\n",
       "      <th>2649331</th>\n",
       "      <td>BER</td>\n",
       "      <td>Spirometrie : FVC=2,15 L(57,65 % ) , FEV1=1,90...</td>\n",
       "    </tr>\n",
       "    <tr>\n",
       "      <th>...</th>\n",
       "      <td>...</td>\n",
       "      <td>...</td>\n",
       "    </tr>\n",
       "    <tr>\n",
       "      <th>103825</th>\n",
       "      <td>ADM</td>\n",
       "      <td>12-12-2017 254</td>\n",
       "    </tr>\n",
       "    <tr>\n",
       "      <th>1166131</th>\n",
       "      <td>ETN</td>\n",
       "      <td>Succesvol gedetubeerd .</td>\n",
       "    </tr>\n",
       "    <tr>\n",
       "      <th>1108524</th>\n",
       "      <td>ENR</td>\n",
       "      <td>Tractus respiratorius : Geen hoesten , geen he...</td>\n",
       "    </tr>\n",
       "    <tr>\n",
       "      <th>1553035</th>\n",
       "      <td>ATT</td>\n",
       "      <td>Maligne hypertensie wv s/n Labetalol iv op iC ...</td>\n",
       "    </tr>\n",
       "    <tr>\n",
       "      <th>899817</th>\n",
       "      <td>MBW</td>\n",
       "      <td>StreefMAP verlaagd naar 100mmHg .</td>\n",
       "    </tr>\n",
       "  </tbody>\n",
       "</table>\n",
       "<p>1894560 rows × 2 columns</p>\n",
       "</div>"
      ],
      "text/plain": [
       "        category                                               text\n",
       "954882       MBW          vasculaire Tav longen , multiproblematiek\n",
       "498176       STM  Redelijke linker ventrikelfunctie in rust ( EF...\n",
       "859393       ATT  Als er geen vormen geknipt moeten worden dan v...\n",
       "892728       ATT                             Dit bleef een tijdje .\n",
       "2649331      BER  Spirometrie : FVC=2,15 L(57,65 % ) , FEV1=1,90...\n",
       "...          ...                                                ...\n",
       "103825       ADM                                     12-12-2017 254\n",
       "1166131      ETN                            Succesvol gedetubeerd .\n",
       "1108524      ENR  Tractus respiratorius : Geen hoesten , geen he...\n",
       "1553035      ATT  Maligne hypertensie wv s/n Labetalol iv op iC ...\n",
       "899817       MBW                  StreefMAP verlaagd naar 100mmHg .\n",
       "\n",
       "[1894560 rows x 2 columns]"
      ]
     },
     "execution_count": 15,
     "metadata": {},
     "output_type": "execute_result"
    }
   ],
   "source": [
    "df"
   ]
  },
  {
   "cell_type": "code",
   "execution_count": 16,
   "id": "ece30bbd",
   "metadata": {},
   "outputs": [],
   "source": [
    "adm = []\n",
    "att = []\n",
    "ber = []\n",
    "enr = []\n",
    "etn = []\n",
    "fac = []\n",
    "ins = []\n",
    "mbw = []\n",
    "stm = []\n",
    "\n",
    "for ri, row in df.iterrows():\n",
    "    if len(adm) < 45000 and row['category'] == 'ADM' and len(row['text']) >= 50 and row['text'] not in adm:\n",
    "        adm.append(row['text'])\n",
    "    elif len(att) < 45000 and row['category'] == 'ATT' and len(row['text']) >= 50 and row['text'] not in att:\n",
    "        att.append(row['text'])\n",
    "    elif len(ber) < 45000 and row['category'] == 'BER' and len(row['text']) >= 50 and row['text'] not in ber:\n",
    "        ber.append(row['text'])\n",
    "    elif len(enr) < 45000 and row['category'] == 'ENR' and len(row['text']) >= 50 and row['text'] not in enr:\n",
    "        enr.append(row['text'])\n",
    "    elif len(etn) < 45000 and row['category'] == 'ETN' and len(row['text']) >= 50 and row['text'] not in etn:\n",
    "        etn.append(row['text'])\n",
    "    elif len(fac) < 45000 and row['category'] == 'FAC' and len(row['text']) >= 50 and row['text'] not in fac:\n",
    "        fac.append(row['text'])\n",
    "    elif len(ins) < 45000 and row['category'] == 'INS' and len(row['text']) >= 50 and row['text'] not in ins:\n",
    "        ins.append(row['text'])\n",
    "    elif len(mbw) < 45000 and row['category'] == 'MBW' and len(row['text']) >= 50 and row['text'] not in mbw:\n",
    "        mbw.append(row['text'])\n",
    "    elif len(stm) < 45000 and row['category'] == 'STM' and len(row['text']) >= 50 and row['text'] not in stm:\n",
    "        stm.append(row['text'])"
   ]
  },
  {
   "cell_type": "code",
   "execution_count": 17,
   "id": "a426a44f",
   "metadata": {},
   "outputs": [],
   "source": [
    "data = adm+att+ber+enr+etn+fac+ins+mbw+stm"
   ]
  },
  {
   "cell_type": "code",
   "execution_count": 18,
   "id": "aeb2ffb3",
   "metadata": {},
   "outputs": [
    {
     "data": {
      "text/plain": [
       "40500"
      ]
     },
     "execution_count": 18,
     "metadata": {},
     "output_type": "execute_result"
    }
   ],
   "source": [
    "4500*9"
   ]
  },
  {
   "cell_type": "code",
   "execution_count": 19,
   "id": "fe22ab41",
   "metadata": {},
   "outputs": [
    {
     "data": {
      "text/plain": [
       "405000"
      ]
     },
     "execution_count": 19,
     "metadata": {},
     "output_type": "execute_result"
    }
   ],
   "source": [
    "len(data)"
   ]
  },
  {
   "cell_type": "code",
   "execution_count": 20,
   "id": "ae000717",
   "metadata": {},
   "outputs": [],
   "source": [
    "all_sents_small = pd.DataFrame(data, columns=[\"text\"])"
   ]
  },
  {
   "cell_type": "code",
   "execution_count": 21,
   "id": "2d91c8eb",
   "metadata": {},
   "outputs": [],
   "source": [
    "all_sents_small.to_csv(\"/mnt/data/Users/A-PROOF/Cecilia_S/keyword_matches_notes/all_sents_small3.csv\", index=False)"
   ]
  },
  {
   "cell_type": "code",
   "execution_count": 22,
   "id": "814d9bbd",
   "metadata": {},
   "outputs": [
    {
     "name": "stdout",
     "output_type": "stream",
     "text": [
      "45000\n",
      "45000\n",
      "45000\n",
      "45000\n",
      "45000\n",
      "45000\n",
      "45000\n",
      "45000\n",
      "45000\n"
     ]
    }
   ],
   "source": [
    "print(len(adm))\n",
    "print(len(att))\n",
    "print(len(ber))\n",
    "print(len(enr))\n",
    "print(len(etn))\n",
    "print(len(fac))\n",
    "print(len(ins))\n",
    "print(len(mbw))\n",
    "print(len(stm))"
   ]
  },
  {
   "cell_type": "code",
   "execution_count": 23,
   "id": "26741a11",
   "metadata": {},
   "outputs": [
    {
     "data": {
      "text/plain": [
       "241537"
      ]
     },
     "execution_count": 23,
     "metadata": {},
     "output_type": "execute_result"
    }
   ],
   "source": [
    "28489+32806+16520+23142+28024+40402+21382+31443+19329"
   ]
  },
  {
   "cell_type": "code",
   "execution_count": 24,
   "id": "1f051f29",
   "metadata": {},
   "outputs": [
    {
     "name": "stdout",
     "output_type": "stream",
     "text": [
      "CAD herplaatst 3)Verhoogde infectieparameters DD community\n",
      "Volgens partner toen wel wat lastiger te verstaan .\n",
      "Trachplaatsing , ongecompliceerd Addendum 10-02-2021 18:35 N..\n",
      "In uw familie komt de erfelijke hartziekte brugadasyndroom voor die in belangrijke mate wordt veroorzaakt door de c.3956G > T p.(Gly1319Val ) ( klasse 5 ) mutatie in het SCN5A\n",
      "T2N1 mondbodemcarcinoom essentiële hypertensie diabetes\n",
      "Patiënt ging akkoord met inductie behandeling met capecitabine , oxaliplatin ( CAPX ) en bevacizumab .\n",
      "acute tubulusnecrose bij een bloeding/passagere hypotensie bij abruptio placentae of trombotische microangiopathie .\n",
      "Indien geen crepitaties meer , dan furosemide iv omzetten naar Bumetanide 3 mg + 2 mg oraal .\n",
      "supervisor ergometrie : pijnklachten tijdens inspanning afzakkend in rust .\n",
      "Moeder spoelt de wond minimaal 2x per dag , wat voor Zoë als erg intensief wordt beschouwd .\n",
      "2017 oktober wegraking , geen aanwijzingen voor cardiale syncope\n",
      "1dd1 Prednisolon 1dd5 mg Allopurinol 1dd100 mg Seretide\n",
      "In overleg met de hematologie volgt nog een plan tav de antistolling bij een gecombineerd probleem van enerzijds trombopenie en anderzijds een trombus in de vena brachialis rechts na PICC-lijn insitu .\n",
      "S. Eberl , Anesthesioloog Geprikt door : A. Cappon , Arts-assistent Anesthesiologie - pijngeneeskunde Afdeling : K ( An )\n",
      "P. Kloen , rthopedisch chirurg H. Weel , Arts-assistent rthopedie Verrichting ( en ):\n",
      "Beleid - ip oproepen bij uitslag WES ( tenzij normaal )\n",
      "NEU - neuro wil pte als zij niet meer op ic hoeft te liggen graag overnemen voor observatie van de myasthenie en analsye van de myelopathie , ze is al aangemeld voor de verpleegafdeling , interne is hiervan op de hoogte\n",
      "Reactie op rituximab ( tachypneu , dyspneu en tachycardie ) .\n",
      "Voor zover bekend geen allergieën Tabaksgebruik Rookstatus Nooit gerookt Verslavende middelen en seksuele activiteit Alcoholgebruik\n",
      "Via huisarts epipen gekregen maar nog nooit gebruikt .\n",
      "Methylprednisolon : 30 mg/kg in 2 uur i.v. , gedurende 3 dagen 2 .\n",
      "Neurologicus : tintelingen in de tenen , knieën , vingers\n",
      "Lichamelijk onderzoek : Niet ziek , alert , blafhoest , geen stridor\n",
      "prikken komende 2w - CP over 2w : dan medicatie verder verhogen of start Lantus 10 EH + consult\n",
      "Anti-ENA ctd is negatief HIV negatief Mycoplasma serologie negatief\n",
      "Moeder geeft aan dat Wail minder eetlust heeft en is afgevallen ( 3,5 kg ) na het ontslag in dec.\n",
      "Hierbij nog altijd wisselend een tachydyspneu met AH tot 100/min .\n",
      "Tijdens scopie werd een milde congenitale subglottische stenose graad 1 , laryngeale cleft graad 1 , en milde malacie van de linker hoofdbronchus gezien\n",
      "Algemene voorgeschiedenis : Familiaire hypercholesterolemie .\n",
      "In het verleden heeft pte bijwerkingen gekregen op cisordinol , risperdal en aripiprzol .\n",
      "( het ECG is fors veranderd t.o.v. ECG juli 2020 ) .\n",
      "Conclusie 10 jarige jongen met status na volledige darmresectie bij GUCY2C mutatie en sinds vroege leeftijd volledige TPV afhankelijkheid presenteert zich nu met een acuut ontstaan neurologisch beeld waarbij een stoornis in spraak op de voorgrond staat in combinatie met een gevoelsstoornis in rechter arm/been .\n",
      "Triglyceriden hoog 22 mmol/l ( zie mail dr Huidekoper hieronder ) .\n",
      "geen oedeem , PICC lijn niet rood oogt rustig , klein zwart korstje .\n",
      "Mw zegt de snelle hartslag wel te voelen , maar verder geen klachten van duizelingen , PB of dyspnoe .\n",
      "lokaal lijkt rood rondom pleister , sensibilitiet stoornis\n",
      "Bij een amenorrhoeduur van 38w1d werd op 29-11-2017 om 12:24 uur middels een vaginaal , spontane bevalling in achterhoofd-voorligging een meisje geboren met een gewicht van 2515 gram ( P5 ) .\n",
      "Mesangioproliferatieve glomerulonefritis ( MPGN ) met dominante afzetting van complement C3\n",
      "In het AMC hebben wij inmiddels ruim 1000 patienten met vergelijkbare klachten gezien en doen uitgebreid ( klinisch ) wetenschappelijk onderzoek naar oorzaken en behandelmogelijkheden van misofonie .\n",
      "CVID-19 positief ( 13-9 ) met milde klachten , niet zuurstof behoeftig .\n",
      "Ruim 5 jaar geleden gestaakt ( ged 50 jaar , max 10 sig per dag , ruim 20 pakjaren ) .\n",
      "Meerdere morfologieen AT induceerbaar B/ - Retour poli over 4-6 weken bij Dr. Jansen , Spaarne Gasthuis - Retour poli over 12 weken bij Dr. Krul .\n",
      "Kan niet goed vertellen wanneer de klachten zijn begonnen .\n",
      "Vermoeidheid : ja niet held dag maar meestal na school aan einde dag .\n",
      "Nu nog niet maar wel indien de bloedingen zich herhalen .\n",
      "Abd Spaarzame peristaltiek , wisselende tympanie , soepel niet drukpijnlijk .\n",
      "mmol/L , Leukocyten 9,4 x 10E9/L , Leukocytendifferentiatie BEP , Neutrofielen\n",
      "Gedurende de opname werd Hb frequent gecontroleerd , welke een daling van 7.5mmol/L tot 4.5mmol/L liet zien .\n",
      "Behandelaanwijzing : Volledig beleid Infectie/isolatie\n",
      "perifere oedemen + dyspnoe 4 ) multipele geneesmiddelen reacties/interacties\n"
     ]
    }
   ],
   "source": [
    "for i in adm[:50]:\n",
    "    print(i)"
   ]
  },
  {
   "cell_type": "code",
   "execution_count": null,
   "id": "dc373d77",
   "metadata": {},
   "outputs": [],
   "source": []
  }
 ],
 "metadata": {
  "kernelspec": {
   "display_name": "Python 3 (ipykernel)",
   "language": "python",
   "name": "python3"
  },
  "language_info": {
   "codemirror_mode": {
    "name": "ipython",
    "version": 3
   },
   "file_extension": ".py",
   "mimetype": "text/x-python",
   "name": "python",
   "nbconvert_exporter": "python",
   "pygments_lexer": "ipython3",
   "version": "3.10.12"
  }
 },
 "nbformat": 4,
 "nbformat_minor": 5
}
