{
 "cells": [
  {
   "cell_type": "code",
   "execution_count": 8,
   "id": "1f8284e7",
   "metadata": {},
   "outputs": [],
   "source": [
    "from simpletransformers.classification import MultiLabelClassificationModel\n",
    "import numpy as np\n",
    "from scipy.special import softmax"
   ]
  },
  {
   "cell_type": "code",
   "execution_count": 4,
   "id": "138f6d0a",
   "metadata": {},
   "outputs": [],
   "source": [
    "model = MultiLabelClassificationModel(\n",
    "    'roberta',\n",
    "    '/mnt/data/Users/A-PROOF/Cecilia_S/models/jenia/',\n",
    "    use_cuda=False,\n",
    ")"
   ]
  },
  {
   "cell_type": "code",
   "execution_count": 12,
   "id": "d6a89939",
   "metadata": {},
   "outputs": [
    {
     "data": {
      "application/vnd.jupyter.widget-view+json": {
       "model_id": "3c14fcaa7d15465b8ef3b7d49cab6fa8",
       "version_major": 2,
       "version_minor": 0
      },
      "text/plain": [
       "  0%|          | 0/1 [00:00<?, ?it/s]"
      ]
     },
     "metadata": {},
     "output_type": "display_data"
    }
   ],
   "source": [
    "example = 'Nu sinds 5-6 dagen progressieve benauwdheidsklachten (bij korte stukken lopen al kortademig), terwijl dit eerder niet zo was.'\n",
    "predictions, raw_outputs = model.predict([example])"
   ]
  },
  {
   "cell_type": "code",
   "execution_count": 6,
   "id": "2b857ab3",
   "metadata": {},
   "outputs": [
    {
     "name": "stdout",
     "output_type": "stream",
     "text": [
      "[[1, 0, 0, 0, 0, 1, 1, 0, 0]]\n"
     ]
    }
   ],
   "source": [
    "print(predictions)"
   ]
  },
  {
   "cell_type": "code",
   "execution_count": 27,
   "id": "cd7dce67",
   "metadata": {},
   "outputs": [],
   "source": [
    "probabilities = [*([*softmax(element)] for element in raw_outputs)]"
   ]
  },
  {
   "cell_type": "code",
   "execution_count": 28,
   "id": "1279d12b",
   "metadata": {},
   "outputs": [
    {
     "name": "stdout",
     "output_type": "stream",
     "text": [
      "[[0.1447261501385788, 0.08635313455954288, 0.0863881905362506, 0.08880348114089442, 0.08665474059524454, 0.16451046581738582, 0.16889031276426014, 0.08715176946908852, 0.08652175497875421]]\n"
     ]
    }
   ],
   "source": [
    "print(probabilities)"
   ]
  },
  {
   "cell_type": "code",
   "execution_count": null,
   "id": "5a8e3bdf",
   "metadata": {},
   "outputs": [],
   "source": []
  }
 ],
 "metadata": {
  "kernelspec": {
   "display_name": "Python 3 (ipykernel)",
   "language": "python",
   "name": "python3"
  },
  "language_info": {
   "codemirror_mode": {
    "name": "ipython",
    "version": 3
   },
   "file_extension": ".py",
   "mimetype": "text/x-python",
   "name": "python",
   "nbconvert_exporter": "python",
   "pygments_lexer": "ipython3",
   "version": "3.10.6"
  }
 },
 "nbformat": 4,
 "nbformat_minor": 5
}
